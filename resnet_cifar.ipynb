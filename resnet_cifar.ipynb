{
 "cells": [
  {
   "cell_type": "code",
   "execution_count": 42,
   "id": "initial_id",
   "metadata": {
    "collapsed": true,
    "ExecuteTime": {
     "end_time": "2024-02-26T03:51:49.021350Z",
     "start_time": "2024-02-26T03:51:48.996279Z"
    }
   },
   "outputs": [
    {
     "name": "stdout",
     "output_type": "stream",
     "text": [
      "The autoreload extension is already loaded. To reload it, use:\n",
      "  %reload_ext autoreload\n"
     ]
    }
   ],
   "source": [
    "import torch\n",
    "import torchvision\n",
    "import torch.nn as nn\n",
    "from tqdm import tqdm\n",
    "import numpy as np\n",
    "import matplotlib.pyplot as plt \n",
    "\n",
    "from utils.torch_utils import get_default_device \n",
    "\n",
    "%load_ext autoreload\n",
    "%autoreload 2"
   ]
  },
  {
   "cell_type": "code",
   "outputs": [
    {
     "name": "stdout",
     "output_type": "stream",
     "text": [
      "Files already downloaded and verified\n",
      "Files already downloaded and verified\n",
      "CIFAR 10 classes: ['airplane', 'automobile', 'bird', 'cat', 'deer', 'dog', 'frog', 'horse', 'ship', 'truck']\n"
     ]
    }
   ],
   "source": [
    "from datasets import load_cifar10\n",
    "\n",
    "batch_size = 16\n",
    "num_workers = 2\n",
    "\n",
    "(trainloader, testloader), classes = load_cifar10(batch_size, num_workers=num_workers)\n",
    "print(\"CIFAR {} classes: {}\".format(len(classes), classes))"
   ],
   "metadata": {
    "collapsed": false,
    "ExecuteTime": {
     "end_time": "2024-02-26T03:24:01.896855Z",
     "start_time": "2024-02-26T03:24:00.302544Z"
    }
   },
   "id": "4a5dabcfc4634ba6",
   "execution_count": 33
  },
  {
   "cell_type": "code",
   "outputs": [],
   "source": [
    "from resnet_cifar import ResnetCifar\n",
    "\n",
    "model = ResnetCifar(n_classes=len(classes))\n",
    "device = get_default_device()\n",
    "model = model.to(device)\n",
    "\n",
    "loss_func = torch.nn.CrossEntropyLoss()\n",
    "optimizer = torch.optim.RMSprop(model.parameters(), lr=0.001) # TODO: Add LR scheduler "
   ],
   "metadata": {
    "collapsed": false,
    "ExecuteTime": {
     "end_time": "2024-02-26T03:44:57.600959Z",
     "start_time": "2024-02-26T03:44:57.164562Z"
    }
   },
   "id": "e0e350e527bdcd3f",
   "execution_count": 41
  },
  {
   "cell_type": "code",
   "outputs": [
    {
     "name": "stderr",
     "output_type": "stream",
     "text": [
      "\n",
      "  0%|          | 0/10 [00:00<?, ?it/s]\u001B[A\n",
      " 10%|█         | 1/10 [01:03<09:27, 63.11s/it]\u001B[A\n",
      " 20%|██        | 2/10 [02:07<08:32, 64.10s/it]\u001B[A\n",
      " 30%|███       | 3/10 [03:11<07:26, 63.82s/it]\u001B[A\n",
      " 40%|████      | 4/10 [04:15<06:23, 63.92s/it]\u001B[A\n",
      " 50%|█████     | 5/10 [05:17<05:15, 63.15s/it]\u001B[A\n",
      " 60%|██████    | 6/10 [06:20<04:12, 63.02s/it]\u001B[A\n",
      " 70%|███████   | 7/10 [07:21<03:07, 62.54s/it]\u001B[A\n",
      " 80%|████████  | 8/10 [08:22<02:03, 62.00s/it]\u001B[A\n",
      " 90%|█████████ | 9/10 [09:23<01:01, 61.87s/it]\u001B[A\n",
      "100%|██████████| 10/10 [10:27<00:00, 62.73s/it]\u001B[A\n"
     ]
    },
    {
     "data": {
      "text/plain": "[<matplotlib.lines.Line2D at 0x2c52a6660>]"
     },
     "execution_count": 44,
     "metadata": {},
     "output_type": "execute_result"
    },
    {
     "data": {
      "text/plain": "<Figure size 640x480 with 1 Axes>",
      "image/png": "[encoded data removed]"
     },
     "metadata": {},
     "output_type": "display_data"
    }
   ],
   "source": [
    "# TRAINING\n",
    "\n",
    "model.train()\n",
    "\n",
    "num_epochs = 10\n",
    "log_interval = 2\n",
    "\n",
    "loss_history = []\n",
    "\n",
    "for epoch in tqdm(range(num_epochs)):\n",
    "    last_loss_avg = torch.tensor(0, device=device, dtype=torch.float32)\n",
    "    batch_loss_t = torch.tensor(0, device=device, dtype=torch.float32)\n",
    "    for (inputs, targets) in trainloader:\n",
    "        inputs, targets = inputs.to(device), targets.to(device)\n",
    "        \n",
    "        optimizer.zero_grad()\n",
    "        outputs = model.forward(inputs)\n",
    "        loss = loss_func(outputs, targets)\n",
    "        loss.backward()\n",
    "        optimizer.step()\n",
    "        \n",
    "        batch_loss_t += loss.sum()\n",
    "    \n",
    "    # TODO: Print loss along the way\n",
    "    # TODO: Add early stopping based on accuracy\n",
    "    # TODO: Train with more epochs\n",
    "    # TODO: Investigate the mad slowdown because of tqdm or dataloader?\n",
    "    # TODO: Add DPO loss to fine-tune using human preferences\n",
    "    loss_history.append(batch_loss_t.to(\"cpu\").item() / batch_size)\n",
    "    \n",
    "plt.plot(np.arange(num_epochs), loss_history)\n",
    "    \n"
   ],
   "metadata": {
    "collapsed": false,
    "ExecuteTime": {
     "end_time": "2024-02-26T04:03:53.809143Z",
     "start_time": "2024-02-26T03:53:26.345261Z"
    }
   },
   "id": "13a74d90e0c5e04d",
   "execution_count": 44
  },
  {
   "cell_type": "code",
   "outputs": [
    {
     "name": "stderr",
     "output_type": "stream",
     "text": [
      "\n",
      "  0%|          | 0/625 [00:00<?, ?it/s]\u001B[A\n",
      "  0%|          | 1/625 [00:02<28:27,  2.74s/it]\u001B[A\n",
      "  1%|          | 4/625 [00:02<05:38,  1.83it/s]\u001B[A\n",
      "  2%|▏         | 12/625 [00:02<01:27,  7.00it/s]\u001B[A\n",
      "  3%|▎         | 21/625 [00:03<00:42, 14.05it/s]\u001B[A\n",
      "  5%|▍         | 29/625 [00:03<00:28, 21.23it/s]\u001B[A\n",
      "  6%|▌         | 38/625 [00:03<00:19, 30.24it/s]\u001B[A\n",
      "  8%|▊         | 47/625 [00:03<00:14, 39.45it/s]\u001B[A\n",
      "  9%|▉         | 56/625 [00:03<00:11, 47.62it/s]\u001B[A\n",
      " 10%|█         | 65/625 [00:03<00:10, 55.24it/s]\u001B[A\n",
      " 12%|█▏        | 74/625 [00:03<00:08, 61.96it/s]\u001B[A\n",
      " 13%|█▎        | 83/625 [00:03<00:08, 66.92it/s]\u001B[A\n",
      " 15%|█▍        | 92/625 [00:03<00:07, 71.72it/s]\u001B[A\n",
      " 16%|█▌        | 101/625 [00:04<00:06, 75.33it/s]\u001B[A\n",
      " 18%|█▊        | 110/625 [00:04<00:06, 76.77it/s]\u001B[A\n",
      " 19%|█▉        | 119/625 [00:04<00:06, 75.84it/s]\u001B[A\n",
      " 20%|██        | 128/625 [00:04<00:06, 77.76it/s]\u001B[A\n",
      " 22%|██▏       | 137/625 [00:04<00:06, 77.92it/s]\u001B[A\n",
      " 23%|██▎       | 145/625 [00:04<00:06, 77.06it/s]\u001B[A\n",
      " 25%|██▍       | 154/625 [00:04<00:05, 78.53it/s]\u001B[A\n",
      " 26%|██▌       | 163/625 [00:04<00:05, 79.59it/s]\u001B[A\n",
      " 28%|██▊       | 172/625 [00:04<00:05, 79.74it/s]\u001B[A\n",
      " 29%|██▉       | 181/625 [00:05<00:05, 80.95it/s]\u001B[A\n",
      " 30%|███       | 190/625 [00:05<00:05, 81.19it/s]\u001B[A\n",
      " 32%|███▏      | 199/625 [00:05<00:05, 79.54it/s]\u001B[A\n",
      " 33%|███▎      | 207/625 [00:05<00:05, 78.50it/s]\u001B[A\n",
      " 35%|███▍      | 216/625 [00:05<00:05, 79.63it/s]\u001B[A\n",
      " 36%|███▌      | 224/625 [00:05<00:05, 79.16it/s]\u001B[A\n",
      " 37%|███▋      | 232/625 [00:05<00:04, 78.82it/s]\u001B[A\n",
      " 39%|███▊      | 241/625 [00:05<00:04, 80.81it/s]\u001B[A\n",
      " 40%|████      | 250/625 [00:05<00:04, 79.94it/s]\u001B[A\n",
      " 41%|████▏     | 259/625 [00:05<00:04, 82.35it/s]\u001B[A\n",
      " 43%|████▎     | 268/625 [00:06<00:04, 83.27it/s]\u001B[A\n",
      " 44%|████▍     | 277/625 [00:06<00:04, 83.64it/s]\u001B[A\n",
      " 46%|████▌     | 286/625 [00:06<00:03, 85.02it/s]\u001B[A\n",
      " 47%|████▋     | 295/625 [00:06<00:03, 83.93it/s]\u001B[A\n",
      " 49%|████▊     | 304/625 [00:06<00:03, 82.59it/s]\u001B[A\n",
      " 50%|█████     | 313/625 [00:06<00:03, 83.89it/s]\u001B[A\n",
      " 52%|█████▏    | 322/625 [00:06<00:03, 82.50it/s]\u001B[A\n",
      " 53%|█████▎    | 331/625 [00:06<00:03, 80.31it/s]\u001B[A\n",
      " 54%|█████▍    | 340/625 [00:06<00:03, 82.42it/s]\u001B[A\n",
      " 56%|█████▌    | 349/625 [00:07<00:03, 83.47it/s]\u001B[A\n",
      " 57%|█████▋    | 358/625 [00:07<00:03, 82.30it/s]\u001B[A\n",
      " 59%|█████▊    | 367/625 [00:07<00:03, 83.06it/s]\u001B[A\n",
      " 60%|██████    | 376/625 [00:07<00:03, 81.35it/s]\u001B[A\n",
      " 62%|██████▏   | 385/625 [00:07<00:02, 81.71it/s]\u001B[A\n",
      " 63%|██████▎   | 395/625 [00:07<00:02, 84.41it/s]\u001B[A\n",
      " 65%|██████▍   | 404/625 [00:07<00:02, 83.86it/s]\u001B[A\n",
      " 66%|██████▌   | 413/625 [00:07<00:02, 82.36it/s]\u001B[A\n",
      " 68%|██████▊   | 422/625 [00:07<00:02, 83.67it/s]\u001B[A\n",
      " 69%|██████▉   | 431/625 [00:08<00:02, 82.98it/s]\u001B[A\n",
      " 70%|███████   | 440/625 [00:08<00:02, 82.66it/s]\u001B[A\n",
      " 72%|███████▏  | 449/625 [00:08<00:02, 80.46it/s]\u001B[A\n",
      " 73%|███████▎  | 458/625 [00:08<00:02, 75.76it/s]\u001B[A\n",
      " 75%|███████▍  | 466/625 [00:08<00:02, 74.37it/s]\u001B[A\n",
      " 76%|███████▌  | 475/625 [00:08<00:01, 76.51it/s]\u001B[A\n",
      " 77%|███████▋  | 484/625 [00:08<00:01, 77.90it/s]\u001B[A\n",
      " 79%|███████▊  | 492/625 [00:08<00:01, 78.34it/s]\u001B[A\n",
      " 80%|████████  | 501/625 [00:08<00:01, 81.30it/s]\u001B[A\n",
      " 82%|████████▏ | 510/625 [00:09<00:01, 81.30it/s]\u001B[A\n",
      " 83%|████████▎ | 519/625 [00:09<00:01, 80.83it/s]\u001B[A\n",
      " 84%|████████▍ | 528/625 [00:09<00:01, 78.23it/s]\u001B[A\n",
      " 86%|████████▌ | 536/625 [00:09<00:01, 75.87it/s]\u001B[A\n",
      " 87%|████████▋ | 544/625 [00:09<00:01, 75.79it/s]\u001B[A\n",
      " 88%|████████▊ | 553/625 [00:09<00:00, 77.92it/s]\u001B[A\n",
      " 90%|████████▉ | 561/625 [00:09<00:00, 77.76it/s]\u001B[A\n",
      " 91%|█████████ | 569/625 [00:09<00:00, 78.32it/s]\u001B[A\n",
      " 92%|█████████▏| 578/625 [00:09<00:00, 80.24it/s]\u001B[A\n",
      " 94%|█████████▍| 587/625 [00:10<00:00, 80.46it/s]\u001B[A\n",
      " 95%|█████████▌| 596/625 [00:10<00:00, 78.48it/s]\u001B[A\n",
      " 97%|█████████▋| 604/625 [00:10<00:00, 77.83it/s]\u001B[A\n",
      " 98%|█████████▊| 613/625 [00:10<00:00, 79.88it/s]\u001B[A\n",
      "100%|██████████| 625/625 [00:20<00:00, 30.42it/s]\u001B[A"
     ]
    },
    {
     "name": "stdout",
     "output_type": "stream",
     "text": [
      "Test Loss: 0.1060\n",
      "Test Accuracy: 44.5300%\n"
     ]
    },
    {
     "name": "stderr",
     "output_type": "stream",
     "text": [
      "\n"
     ]
    }
   ],
   "source": [
    "# VALIDATION\n",
    "\n",
    "model.eval()\n",
    "\n",
    "test_loss = 0\n",
    "test_correct = 0\n",
    "test_total = 0\n",
    "\n",
    "with torch.no_grad():\n",
    "    for (inputs, targets) in tqdm(testloader):\n",
    "        inputs, targets = inputs.to(device), targets.to(device)\n",
    "        outputs = model(inputs)\n",
    "        \n",
    "        loss = loss_func(outputs, targets)\n",
    "        test_loss += loss.sum()\n",
    "        \n",
    "        pred_score, pred_idx = torch.max(outputs, 1)\n",
    "        test_correct += torch.sum(pred_idx == targets)\n",
    "        \n",
    "        test_total += batch_size\n",
    "    \n",
    "    total_loss = (test_loss / test_total).to(\"cpu\")\n",
    "\n",
    "accuracy = (test_correct / test_total).to(\"cpu\")\n",
    "\n",
    "print(\"Test Loss: {:.4f}\".format(total_loss))\n",
    "print(\"Test Accuracy: {:.4f}%\".format(accuracy.to(\"cpu\")*100))"
   ],
   "metadata": {
    "collapsed": false,
    "ExecuteTime": {
     "end_time": "2024-02-26T04:31:08.373700Z",
     "start_time": "2024-02-26T04:30:47.747722Z"
    }
   },
   "id": "e250e3567bf6c901",
   "execution_count": 45
  },
  {
   "cell_type": "code",
   "outputs": [],
   "source": [],
   "metadata": {
    "collapsed": false
   },
   "id": "e7061f5b1ec39974"
  }
 ],
 "metadata": {
  "kernelspec": {
   "display_name": "Python 3",
   "language": "python",
   "name": "python3"
  },
  "language_info": {
   "codemirror_mode": {
    "name": "ipython",
    "version": 2
   },
   "file_extension": ".py",
   "mimetype": "text/x-python",
   "name": "python",
   "nbconvert_exporter": "python",
   "pygments_lexer": "ipython2",
   "version": "2.7.6"
  }
 },
 "nbformat": 4,
 "nbformat_minor": 5
}
